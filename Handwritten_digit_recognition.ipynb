{
  "nbformat": 4,
  "nbformat_minor": 0,
  "metadata": {
    "colab": {
      "provenance": [],
      "authorship_tag": "ABX9TyNP0F7XEQxhWods5QrPh0s5",
      "include_colab_link": true
    },
    "kernelspec": {
      "name": "python3",
      "display_name": "Python 3"
    },
    "language_info": {
      "name": "python"
    }
  },
  "cells": [
    {
      "cell_type": "markdown",
      "metadata": {
        "id": "view-in-github",
        "colab_type": "text"
      },
      "source": [
        "<a href=\"https://colab.research.google.com/github/Sheikhshahur/Handwritten_digit_recognition/blob/main/Handwritten_digit_recognition.ipynb\" target=\"_parent\"><img src=\"https://colab.research.google.com/assets/colab-badge.svg\" alt=\"Open In Colab\"/></a>"
      ]
    },
    {
      "cell_type": "code",
      "source": [
        "!pip install opencv-python"
      ],
      "metadata": {
        "colab": {
          "base_uri": "https://localhost:8080/"
        },
        "id": "JplCdoXimN8x",
        "outputId": "d3f54c68-01f5-4135-e013-f14e6c9788c6"
      },
      "execution_count": 1,
      "outputs": [
        {
          "output_type": "stream",
          "name": "stdout",
          "text": [
            "Requirement already satisfied: opencv-python in /usr/local/lib/python3.10/dist-packages (4.8.0.76)\n",
            "Requirement already satisfied: numpy>=1.21.2 in /usr/local/lib/python3.10/dist-packages (from opencv-python) (1.23.5)\n"
          ]
        }
      ]
    },
    {
      "cell_type": "code",
      "execution_count": 2,
      "metadata": {
        "id": "SiAweU-elrvP"
      },
      "outputs": [],
      "source": [
        "# import libraries\n",
        "import os\n",
        "import cv2\n",
        "import tensorflow as tf\n",
        "import matplotlib.pyplot as plt\n",
        "import numpy as np"
      ]
    },
    {
      "cell_type": "code",
      "source": [
        "# importing dataset...\n",
        "mnist = tf.keras.datasets.mnist"
      ],
      "metadata": {
        "id": "yP5QrW9qmi7N"
      },
      "execution_count": 3,
      "outputs": []
    },
    {
      "cell_type": "code",
      "source": [
        "# loading the dataset and assigning the values to different variables\n",
        "(x_train,y_train) , (x_test,y_test) = mnist.load_data()"
      ],
      "metadata": {
        "id": "FCc1fqz3m2lW",
        "colab": {
          "base_uri": "https://localhost:8080/"
        },
        "outputId": "0179676f-260d-459d-9d26-1f13c84ae967"
      },
      "execution_count": 4,
      "outputs": [
        {
          "output_type": "stream",
          "name": "stdout",
          "text": [
            "Downloading data from https://storage.googleapis.com/tensorflow/tf-keras-datasets/mnist.npz\n",
            "11490434/11490434 [==============================] - 0s 0us/step\n"
          ]
        }
      ]
    },
    {
      "cell_type": "code",
      "source": [
        "x_train = tf.keras.utils.normalize(x_train,axis=1)\n",
        "x_test = tf.keras.utils.normalize(x_test,axis=1)"
      ],
      "metadata": {
        "id": "gdeHiQpxnf35"
      },
      "execution_count": 5,
      "outputs": []
    },
    {
      "cell_type": "code",
      "source": [
        "# building the model....\n",
        "model = tf.keras.models.Sequential()\n",
        "model.add(tf.keras.layers.Flatten(input_shape = (28,28)))\n",
        "model.add(tf.keras.layers.Dense(128,activation = 'relu'))\n",
        "model.add(tf.keras.layers.Dense(128,activation = 'relu'))\n",
        "model.add(tf.keras.layers.Dense(10,activation= 'softmax'))"
      ],
      "metadata": {
        "id": "2_J0qbHcodT7"
      },
      "execution_count": 6,
      "outputs": []
    },
    {
      "cell_type": "code",
      "source": [
        "# model compiling...\n",
        "model.compile(loss= \"sparse_categorical_crossentropy\", optimizer = 'Adam', metrics = ['accuracy'])"
      ],
      "metadata": {
        "id": "o_dzAgSDp2AK"
      },
      "execution_count": 7,
      "outputs": []
    },
    {
      "cell_type": "code",
      "source": [
        "# training the model...\n",
        "history = model.fit(x_train,y_train,epochs=3)"
      ],
      "metadata": {
        "colab": {
          "base_uri": "https://localhost:8080/"
        },
        "id": "lmX48tHGqHSw",
        "outputId": "aa190173-23ac-490c-8dd8-ee08a601b46b"
      },
      "execution_count": 8,
      "outputs": [
        {
          "output_type": "stream",
          "name": "stdout",
          "text": [
            "Epoch 1/3\n",
            "1875/1875 [==============================] - 17s 8ms/step - loss: 0.2570 - accuracy: 0.9251\n",
            "Epoch 2/3\n",
            "1875/1875 [==============================] - 17s 9ms/step - loss: 0.1043 - accuracy: 0.9675\n",
            "Epoch 3/3\n",
            "1875/1875 [==============================] - 10s 5ms/step - loss: 0.0721 - accuracy: 0.9769\n"
          ]
        }
      ]
    },
    {
      "cell_type": "code",
      "source": [
        "model.save('handwritten.model')"
      ],
      "metadata": {
        "id": "le3ssCBwq0XE"
      },
      "execution_count": 9,
      "outputs": []
    },
    {
      "cell_type": "code",
      "source": [
        "model = tf.keras.models.load_model('handwritten.model')\n",
        "\n",
        "loss , accuracy = model.evaluate(x_test,y_test)\n",
        "print(loss)\n",
        "print(accuracy)"
      ],
      "metadata": {
        "colab": {
          "base_uri": "https://localhost:8080/"
        },
        "id": "DMi0ZdzirfLf",
        "outputId": "4a0ff2a9-885c-4d25-f67d-0a69a46d6940"
      },
      "execution_count": 10,
      "outputs": [
        {
          "output_type": "stream",
          "name": "stdout",
          "text": [
            "313/313 [==============================] - 1s 4ms/step - loss: 0.0930 - accuracy: 0.9711\n",
            "0.09303553402423859\n",
            "0.9710999727249146\n"
          ]
        }
      ]
    },
    {
      "cell_type": "code",
      "source": [
        "import traceback\n",
        "\n",
        "image_number = 1\n",
        "\n",
        "while os.path.isfile(f\"digit-{image_number}.png\"):\n",
        "    try:\n",
        "        img = cv2.imread(f\"digit-{image_number}.png\")[:, :, 0]\n",
        "\n",
        "        # Normalize the pixel values to be in the range [0, 1]\n",
        "        img = img / 255.0\n",
        "\n",
        "        # Reshape the image to have a batch dimension and a channel dimension\n",
        "        img = np.expand_dims(img, axis=0)\n",
        "        img = np.expand_dims(img, axis=-1)\n",
        "\n",
        "        prediction = model.predict(img)\n",
        "        predicted_digit = np.argmax(prediction)\n",
        "\n",
        "\n",
        "\n",
        "        print(f\"Prediction for digit-{image_number}.png: {predicted_digit}\")\n",
        "\n",
        "        # Display the image\n",
        "        plt.imshow(img[0, :, :, 0], cmap=plt.cm.binary)\n",
        "        plt.title(f\"Prediction: {predicted_digit}\")\n",
        "        plt.show()\n",
        "\n",
        "\n",
        "        # Process the prediction or do something with it\n",
        "\n",
        "    except Exception as e:\n",
        "        print(f\"Error processing digit-{image_number}.png:\")\n",
        "        print(traceback.format_exc())\n",
        "\n",
        "    image_number += 1\n"
      ],
      "metadata": {
        "colab": {
          "base_uri": "https://localhost:8080/",
          "height": 1000
        },
        "id": "rbmX8fMSr1sT",
        "outputId": "a407241e-cc7e-43da-88a6-455785882520"
      },
      "execution_count": 11,
      "outputs": [
        {
          "output_type": "stream",
          "name": "stdout",
          "text": [
            "1/1 [==============================] - 0s 154ms/step\n",
            "Prediction for digit-1.png: 8\n"
          ]
        },
        {
          "output_type": "display_data",
          "data": {
            "text/plain": [
              "<Figure size 640x480 with 1 Axes>"
            ],
            "image/png": "[encoded data removed]"
          },
          "metadata": {}
        },
        {
          "output_type": "stream",
          "name": "stdout",
          "text": [
            "1/1 [==============================] - 0s 35ms/step\n",
            "Prediction for digit-2.png: 8\n"
          ]
        },
        {
          "output_type": "display_data",
          "data": {
            "text/plain": [
              "<Figure size 640x480 with 1 Axes>"
            ],
            "image/png": "[encoded data removed]"
          },
          "metadata": {}
        },
        {
          "output_type": "stream",
          "name": "stdout",
          "text": [
            "1/1 [==============================] - 0s 24ms/step\n",
            "Prediction for digit-3.png: 8\n"
          ]
        },
        {
          "output_type": "display_data",
          "data": {
            "text/plain": [
              "<Figure size 640x480 with 1 Axes>"
            ],
            "image/png": "[encoded data removed]"
          },
          "metadata": {}
        },
        {
          "output_type": "stream",
          "name": "stdout",
          "text": [
            "1/1 [==============================] - 0s 22ms/step\n",
            "Prediction for digit-4.png: 8\n"
          ]
        },
        {
          "output_type": "display_data",
          "data": {
            "text/plain": [
              "<Figure size 640x480 with 1 Axes>"
            ],
            "image/png": "[encoded data removed]"
          },
          "metadata": {}
        },
        {
          "output_type": "stream",
          "name": "stdout",
          "text": [
            "1/1 [==============================] - 0s 23ms/step\n",
            "Prediction for digit-5.png: 8\n"
          ]
        },
        {
          "output_type": "display_data",
          "data": {
            "text/plain": [
              "<Figure size 640x480 with 1 Axes>"
            ],
            "image/png": "[encoded data removed]"
          },
          "metadata": {}
        }
      ]
    },
    {
      "cell_type": "code",
      "source": [],
      "metadata": {
        "id": "s5GmuY0G1HXz"
      },
      "execution_count": 12,
      "outputs": []
    }
  ]
}